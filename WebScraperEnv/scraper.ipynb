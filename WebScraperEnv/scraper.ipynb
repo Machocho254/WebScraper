{
 "cells": [
  {
   "cell_type": "code",
   "execution_count": 10,
   "metadata": {},
   "outputs": [],
   "source": [
    "import time\n",
    "from time import sleep\n",
    "from selenium import webdriver\n",
    "from selenium.webdriver.common.keys import Keys\n",
    "from selenium.webdriver.support import expected_conditions as EC\n",
    "from selenium.webdriver.common.by import By\n",
    "from selenium.webdriver.support.wait import WebDriverWait"
   ]
  },
  {
   "cell_type": "code",
   "execution_count": 4,
   "metadata": {},
   "outputs": [
    {
     "name": "stderr",
     "output_type": "stream",
     "text": [
      "C:\\Users\\Admin\\AppData\\Local\\Temp\\ipykernel_10208\\2957743372.py:1: DeprecationWarning: executable_path has been deprecated, please pass in a Service object\n",
      "  browser = webdriver.Chrome(r\"C:\\Users\\Admin\\Downloads\\chromedriver_win32\\chromedriver.exe\")\n"
     ]
    }
   ],
   "source": [
    "browser = webdriver.Chrome(r\"C:\\Users\\Admin\\Downloads\\chromedriver_win32\\chromedriver.exe\")"
   ]
  },
  {
   "cell_type": "markdown",
   "metadata": {},
   "source": [
    "### LOGGING INTO INSTAGRAM"
   ]
  },
  {
   "cell_type": "code",
   "execution_count": 5,
   "metadata": {},
   "outputs": [],
   "source": [
    "# to open Instagram\n",
    "browser.get('https://www.instagram.com/')"
   ]
  },
  {
   "cell_type": "code",
   "execution_count": 6,
   "metadata": {},
   "outputs": [],
   "source": [
    "\n",
    "# target my username and password\n",
    "username = WebDriverWait(browser, 10).until(EC.element_to_be_clickable((By.CSS_SELECTOR, \"input[name='username']\")))\n",
    "password = WebDriverWait(browser, 10).until(EC.element_to_be_clickable((By.CSS_SELECTOR, \"input[name='password']\")))\n"
   ]
  },
  {
   "cell_type": "code",
   "execution_count": 7,
   "metadata": {},
   "outputs": [],
   "source": [
    "# enter my username and password\n",
    "\n",
    "username.clear()\n",
    "username.send_keys(\"roddyrodman69@gmail.com\")\n",
    "\n",
    "password.clear()\n",
    "password.send_keys(\"5CGRgbp*EnB%E]Y_\")"
   ]
  },
  {
   "cell_type": "code",
   "execution_count": 8,
   "metadata": {},
   "outputs": [],
   "source": [
    "#target the login button and click it\n",
    "button = WebDriverWait(browser, 2).until(EC.element_to_be_clickable((By.CSS_SELECTOR, \"button[type='submit']\"))).click()\n",
    "\n",
    "#We are logged in!"
   ]
  },
  {
   "cell_type": "markdown",
   "metadata": {},
   "source": [
    "## Handle Alerts"
   ]
  },
  {
   "cell_type": "code",
   "execution_count": 16,
   "metadata": {},
   "outputs": [
    {
     "ename": "TimeoutException",
     "evalue": "Message: \nStacktrace:\nBacktrace:\n\tOrdinal0 [0x0082DF13+2219795]\n\tOrdinal0 [0x007C2841+1779777]\n\tOrdinal0 [0x006D423D+803389]\n\tOrdinal0 [0x00703025+995365]\n\tOrdinal0 [0x007031EB+995819]\n\tOrdinal0 [0x00730F52+1183570]\n\tOrdinal0 [0x0071E844+1108036]\n\tOrdinal0 [0x0072F192+1175954]\n\tOrdinal0 [0x0071E616+1107478]\n\tOrdinal0 [0x006F7F89+950153]\n\tOrdinal0 [0x006F8F56+954198]\n\tGetHandleVerifier [0x00B22CB2+3040210]\n\tGetHandleVerifier [0x00B12BB4+2974420]\n\tGetHandleVerifier [0x008C6A0A+565546]\n\tGetHandleVerifier [0x008C5680+560544]\n\tOrdinal0 [0x007C9A5C+1808988]\n\tOrdinal0 [0x007CE3A8+1827752]\n\tOrdinal0 [0x007CE495+1827989]\n\tOrdinal0 [0x007D80A4+1867940]\n\tBaseThreadInitThunk [0x754CFA29+25]\n\tRtlGetAppContainerNamedObjectPath [0x77517B5E+286]\n\tRtlGetAppContainerNamedObjectPath [0x77517B2E+238]\n",
     "output_type": "error",
     "traceback": [
      "\u001b[1;31m---------------------------------------------------------------------------\u001b[0m",
      "\u001b[1;31mTimeoutException\u001b[0m                          Traceback (most recent call last)",
      "Cell \u001b[1;32mIn [16], line 2\u001b[0m\n\u001b[0;32m      1\u001b[0m time\u001b[38;5;241m.\u001b[39msleep(\u001b[38;5;241m5\u001b[39m)\n\u001b[1;32m----> 2\u001b[0m alert \u001b[38;5;241m=\u001b[39m \u001b[43mWebDriverWait\u001b[49m\u001b[43m(\u001b[49m\u001b[43mbrowser\u001b[49m\u001b[43m,\u001b[49m\u001b[43m \u001b[49m\u001b[38;5;241;43m15\u001b[39;49m\u001b[43m)\u001b[49m\u001b[38;5;241;43m.\u001b[39;49m\u001b[43muntil\u001b[49m\u001b[43m(\u001b[49m\u001b[43mEC\u001b[49m\u001b[38;5;241;43m.\u001b[39;49m\u001b[43melement_to_be_clickable\u001b[49m\u001b[43m(\u001b[49m\u001b[43m(\u001b[49m\u001b[43mBy\u001b[49m\u001b[38;5;241;43m.\u001b[39;49m\u001b[43mXPATH\u001b[49m\u001b[43m,\u001b[49m\u001b[43m \u001b[49m\u001b[38;5;124;43m'\u001b[39;49m\u001b[38;5;124;43mbutton[contains(text(), \u001b[39;49m\u001b[38;5;124;43m\"\u001b[39;49m\u001b[38;5;124;43mNot Now\u001b[39;49m\u001b[38;5;124;43m\"\u001b[39;49m\u001b[38;5;124;43m)]\u001b[39;49m\u001b[38;5;124;43m'\u001b[39;49m\u001b[43m)\u001b[49m\u001b[43m)\u001b[49m\u001b[43m)\u001b[49m\u001b[38;5;241m.\u001b[39mclick()\n",
      "File \u001b[1;32mc:\\Python\\WebScraper\\WebScraperEnv\\lib\\site-packages\\selenium\\webdriver\\support\\wait.py:90\u001b[0m, in \u001b[0;36mWebDriverWait.until\u001b[1;34m(self, method, message)\u001b[0m\n\u001b[0;32m     88\u001b[0m     \u001b[39mif\u001b[39;00m time\u001b[39m.\u001b[39mmonotonic() \u001b[39m>\u001b[39m end_time:\n\u001b[0;32m     89\u001b[0m         \u001b[39mbreak\u001b[39;00m\n\u001b[1;32m---> 90\u001b[0m \u001b[39mraise\u001b[39;00m TimeoutException(message, screen, stacktrace)\n",
      "\u001b[1;31mTimeoutException\u001b[0m: Message: \nStacktrace:\nBacktrace:\n\tOrdinal0 [0x0082DF13+2219795]\n\tOrdinal0 [0x007C2841+1779777]\n\tOrdinal0 [0x006D423D+803389]\n\tOrdinal0 [0x00703025+995365]\n\tOrdinal0 [0x007031EB+995819]\n\tOrdinal0 [0x00730F52+1183570]\n\tOrdinal0 [0x0071E844+1108036]\n\tOrdinal0 [0x0072F192+1175954]\n\tOrdinal0 [0x0071E616+1107478]\n\tOrdinal0 [0x006F7F89+950153]\n\tOrdinal0 [0x006F8F56+954198]\n\tGetHandleVerifier [0x00B22CB2+3040210]\n\tGetHandleVerifier [0x00B12BB4+2974420]\n\tGetHandleVerifier [0x008C6A0A+565546]\n\tGetHandleVerifier [0x008C5680+560544]\n\tOrdinal0 [0x007C9A5C+1808988]\n\tOrdinal0 [0x007CE3A8+1827752]\n\tOrdinal0 [0x007CE495+1827989]\n\tOrdinal0 [0x007D80A4+1867940]\n\tBaseThreadInitThunk [0x754CFA29+25]\n\tRtlGetAppContainerNamedObjectPath [0x77517B5E+286]\n\tRtlGetAppContainerNamedObjectPath [0x77517B2E+238]\n"
     ]
    }
   ],
   "source": [
    "time.sleep(5)\n",
    "alert = WebDriverWait(browser, 15).until(EC.element_to_be_clickable((By.XPATH, 'button[contains(text(), \"Not Now\")]'))).click()"
   ]
  },
  {
   "cell_type": "markdown",
   "metadata": {},
   "source": [
    "### Searching for a specific harshtag"
   ]
  },
  {
   "cell_type": "code",
   "execution_count": 12,
   "metadata": {},
   "outputs": [],
   "source": [
    "# targetting the search buton\n",
    "searchbox = WebDriverWait(browser, 10).until(EC.element_to_be_clickable((By.XPATH, \"//input[@placeholder='Search']\")))\n",
    "searchbox.clear()"
   ]
  },
  {
   "cell_type": "code",
   "execution_count": 13,
   "metadata": {},
   "outputs": [],
   "source": [
    "# searching for the specific harshtag\n",
    "keyword = \"#cat\"\n",
    "searchbox.send_keys(keyword)"
   ]
  },
  {
   "cell_type": "code",
   "execution_count": 15,
   "metadata": {},
   "outputs": [],
   "source": [
    "#FIXING THE DOUBLE ENTER\n",
    "time.sleep(5) # Wait for 5 seconds\n",
    "my_link = WebDriverWait(browser, 10).until(EC.element_to_be_clickable((By.XPATH, \"//a[contains(@href, '/\" + keyword[1:] + \"/')]\")))\n",
    "my_link.click()"
   ]
  },
  {
   "cell_type": "markdown",
   "metadata": {},
   "source": [
    "### Targetting Username, number of followers and number of posts"
   ]
  },
  {
   "cell_type": "code",
   "execution_count": null,
   "metadata": {},
   "outputs": [],
   "source": [
    "insta_data = []\n",
    "\n",
    "browser.refresh()\n",
    "sleep(4)\n",
    "\n",
    "for i in range(1,4):\n",
    "    for j in range(1,4):\n",
    "\n",
    "        image_field = wait.until(EC.element_to_be_clickable((By.XPATH, f\"//*[@id='react-root']/section/main/div/div[1]/div/div[{i}]/div[{j}]/div/a\"))).click() #click on image\n",
    "   \n",
    "        name_field = wait.until(EC.element_to_be_clickable((By.XPATH, \"/html/body/div[5]/div[2]/div/article/header/div[2]/div[1]/div/span/a\"))) # go to account page\n",
    "        name_field.click()\n",
    "        try:\n",
    "            username = browser.find_element_by_xpath(\"//*[@id='react-root']/section/main/div/header/section/div[1]/h2\").text\n",
    "        except:\n",
    "            browser.execute_script(\"window.history.go(-1)\")\n",
    "            browser.execute_script(\"window.history.go(-1)\")\n",
    "            continue\n",
    "\n",
    "        posts = browser.find_element_by_xpath(\"//*[@id='react-root']/section/main/div/header/section/ul/li[1]/span/span\").text\n",
    "        followers = browser.find_element_by_xpath(\"//*[@id='react-root']/section/main/div/header/section/ul/li[2]/a/span\").text\n",
    "        try:\n",
    "\n",
    "            following = browser.find_element_by_xpath(\"//*[@id='react-root']/section/main/div/header/section/ul/li[3]/a/span\").text\n",
    "        except:\n",
    "            following = 0\n",
    "        try:\n",
    "            acc_type = browser.find_element_by_xpath(\"//*[@id='react-root']/section/main/div/header/section/div[2]/div/span\").text\n",
    "        except:\n",
    "            acc_type = 'None'\n",
    "        print(username, posts, followers, following, acc_type)\n",
    "        insta_data.append((username, posts, followers, following, acc_type))\n",
    "\n",
    "        browser.execute_script(\"window.history.go(-1)\")\n",
    "        browser.execute_script(\"window.history.go(-1)\")"
   ]
  },
  {
   "cell_type": "markdown",
   "metadata": {},
   "source": [
    "### Targetting the comments"
   ]
  },
  {
   "cell_type": "code",
   "execution_count": null,
   "metadata": {},
   "outputs": [],
   "source": [
    "try:\n",
    "    load_more_comment = browser.find_element_by_css_selector('.MGdpg > button:nth-child(1)')\n",
    "    print(\"Found {}\".format(str(load_more_comment)))\n",
    "    i = 0\n",
    "    while load_more_comment.is_displayed() and i < int(sys.argv[2]):\n",
    "        load_more_comment.click()\n",
    "        time.sleep(1.5)\n",
    "        load_more_comment = browser.find_element_by_css_selector('.MGdpg > button:nth-child(1)')\n",
    "        print(\"Found {}\".format(str(load_more_comment)))\n",
    "        i += 1\n",
    "except Exception as e:\n",
    "    print(e)\n",
    "    pass"
   ]
  },
  {
   "cell_type": "code",
   "execution_count": null,
   "metadata": {},
   "outputs": [],
   "source": [
    "user_names = []\n",
    "user_comments = []\n",
    "comment = browser.find_elements_by_class_name('gElp9 ')\n",
    "for c in comment:\n",
    "    container = c.find_element_by_class_name('C4VMK')\n",
    "    name = container.find_element_by_class_name('_6lAjh').text\n",
    "    content = container.find_element_by_tag_name('span').text\n",
    "    content = content.replace('\\n', ' ').strip().rstrip()\n",
    "    user_names.append(name)\n",
    "    user_comments.append(content)"
   ]
  },
  {
   "cell_type": "markdown",
   "metadata": {},
   "source": [
    "### Importing the data as CSV"
   ]
  },
  {
   "cell_type": "code",
   "execution_count": 19,
   "metadata": {},
   "outputs": [],
   "source": [
    "# IMPORTING THE PANDAS LIBRARY\n",
    "import pandas as pd"
   ]
  },
  {
   "cell_type": "code",
   "execution_count": null,
   "metadata": {},
   "outputs": [],
   "source": [
    "# creating a data frame \n",
    "df = pd.DataFrame(insta_data, columns=['Username','Posts','Followers','Following','Account Type'])"
   ]
  },
  {
   "cell_type": "code",
   "execution_count": null,
   "metadata": {},
   "outputs": [],
   "source": [
    "# call the dataframe\n",
    "df"
   ]
  },
  {
   "cell_type": "code",
   "execution_count": null,
   "metadata": {},
   "outputs": [],
   "source": [
    "# checking for outliers n'shit of the dataframe\n",
    "len(df.username.unique())"
   ]
  },
  {
   "cell_type": "code",
   "execution_count": null,
   "metadata": {},
   "outputs": [],
   "source": [
    "# dropping the duplicates\n",
    "df.drop_duplicates(subset='Username', inplace=True)"
   ]
  },
  {
   "cell_type": "code",
   "execution_count": null,
   "metadata": {},
   "outputs": [],
   "source": [
    "# checking whether the duplicates have been dropped\n",
    "len(df.username.unique())"
   ]
  },
  {
   "cell_type": "code",
   "execution_count": null,
   "metadata": {},
   "outputs": [],
   "source": [
    "df = df.reset_index()\n",
    "df.index += 1\n",
    "df"
   ]
  },
  {
   "cell_type": "code",
   "execution_count": null,
   "metadata": {},
   "outputs": [],
   "source": [
    "# saving the dataframe in a CSV format\n",
    "df.to_csv(r\"link to save your csv file\", index = False, header = True)"
   ]
  },
  {
   "cell_type": "markdown",
   "metadata": {},
   "source": [
    "# BUILDING AN EXCEL EXPORTER"
   ]
  },
  {
   "cell_type": "code",
   "execution_count": null,
   "metadata": {},
   "outputs": [],
   "source": [
    "# importing the needed dependencies\n",
    "from pandas import ExcelWriter\n",
    "import os.path"
   ]
  },
  {
   "cell_type": "code",
   "execution_count": null,
   "metadata": {},
   "outputs": [],
   "source": [
    "def export(names, comments):\n",
    "    fname = 'comments.xlsx'\n",
    "    temp = {}\n",
    "    temp_names = []\n",
    "    temp_comments = []\n",
    "    if os.path.isfile(fname):\n",
    "        saved = pd.read_excel(fname)\n",
    "        temp_names.extend(saved['name'])\n",
    "        temp_comments.extend(saved['comment'])\n",
    "    temp_names.extend(names)\n",
    "    temp_comments.extend(comments)\n",
    "    temp.update({'name': temp_names, 'comment': temp_comments})\n",
    "    df = pd.DataFrame(temp)\n",
    "    writer = ExcelWriter(fname)\n",
    "    df.to_excel(writer, 'comments', index=False)\n",
    "    writer.save()"
   ]
  }
 ],
 "metadata": {
  "kernelspec": {
   "display_name": "Python 3.10.7 ('WebScraperEnv': venv)",
   "language": "python",
   "name": "python3"
  },
  "language_info": {
   "codemirror_mode": {
    "name": "ipython",
    "version": 3
   },
   "file_extension": ".py",
   "mimetype": "text/x-python",
   "name": "python",
   "nbconvert_exporter": "python",
   "pygments_lexer": "ipython3",
   "version": "3.10.7"
  },
  "orig_nbformat": 4,
  "vscode": {
   "interpreter": {
    "hash": "6d40fff620dec9fdc3144337beece0b90979a059c1c0adba91113b5a460adc71"
   }
  }
 },
 "nbformat": 4,
 "nbformat_minor": 2
}
